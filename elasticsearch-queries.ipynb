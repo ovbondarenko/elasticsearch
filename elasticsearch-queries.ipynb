{
 "cells": [
  {
   "cell_type": "markdown",
   "metadata": {
    "slideshow": {
     "slide_type": "slide"
    }
   },
   "source": [
    "# Elasticsearch: indexing and queries\n",
    "\n",
    "### Resources\n",
    "\n",
    "* https://marcobonzanini.com/2015/06/22/tuning-relevance-in-elasticsearch-with-custom-boosting/\n",
    "* https://readthedocs.org/projects/elasticsearch-dsl/downloads/pdf/stable/\n",
    "* https://www.elastic.co/blog/easier-relevance-tuning-elasticsearch-7-0"
   ]
  },
  {
   "cell_type": "code",
   "execution_count": 6,
   "metadata": {},
   "outputs": [],
   "source": [
    "# Import dependencies\n",
    "import os\n",
    "import json\n",
    "import sys\n",
    "from elasticsearch import Elasticsearch\n",
    "import wikipediaapi\n",
    "from slugify import slugify\n",
    "from pprint import pprint"
   ]
  },
  {
   "cell_type": "markdown",
   "metadata": {},
   "source": [
    "### Connect to Elasticsearch"
   ]
  },
  {
   "cell_type": "code",
   "execution_count": 7,
   "metadata": {},
   "outputs": [],
   "source": [
    "client = Elasticsearch(\"http://localhost:9200\")"
   ]
  },
  {
   "cell_type": "code",
   "execution_count": 3,
   "metadata": {},
   "outputs": [],
   "source": [
    "wiki_wiki = wikipediaapi.Wikipedia('en')"
   ]
  },
  {
   "cell_type": "markdown",
   "metadata": {},
   "source": [
    "### Find wikipedia articles from category"
   ]
  },
  {
   "cell_type": "code",
   "execution_count": null,
   "metadata": {},
   "outputs": [],
   "source": [
    "def print_categorymembers(categorymembers, level=0, max_level=2):\n",
    "        for c in categorymembers.values():\n",
    "            print(\"%s: %s (ns: %d)\" % (\"*\" * (level + 1), c.title, c.ns))\n",
    "            if c.ns == wikipediaapi.Namespace.CATEGORY and level < max_level:\n",
    "                print_categorymembers(c.categorymembers, level=level + 1, max_level=max_level)\n",
    "\n",
    "\n",
    "# cat = wiki_wiki.page(f\"Category:{category[2]}\")\n",
    "# print_categorymembers(cat.categorymembers)"
   ]
  },
  {
   "cell_type": "markdown",
   "metadata": {},
   "source": [
    "# Default index mapping and simple search"
   ]
  },
  {
   "cell_type": "code",
   "execution_count": 4,
   "metadata": {},
   "outputs": [
    {
     "data": {
      "text/plain": [
       "{'marvel-comics': {'aliases': {}},\n",
       " 'natural-languge-processing': {'aliases': {}},\n",
       " 'coronaviridae': {'aliases': {}},\n",
       " 'presidents-of-the-united-states': {'aliases': {}},\n",
       " 'american-comics-writers': {'aliases': {}},\n",
       " 'american-science-fiction-television-series': {'aliases': {}},\n",
       " 'pandemics': {'aliases': {}},\n",
       " 'american-comedy-webcomics': {'aliases': {}},\n",
       " 'marvel-comics-editors-in-chief': {'aliases': {}}}"
      ]
     },
     "execution_count": 4,
     "metadata": {},
     "output_type": "execute_result"
    }
   ],
   "source": [
    "# Check database for existing indices\n",
    "client.indices.get_alias(\"_all\")"
   ]
  },
  {
   "cell_type": "code",
   "execution_count": null,
   "metadata": {},
   "outputs": [],
   "source": [
    "### Clear database and check if it is empty\n",
    "# new_ind.delete(client, index=\"_all\")\n",
    "# new_ind.get_aliases(client)"
   ]
  },
  {
   "cell_type": "markdown",
   "metadata": {},
   "source": [
    "### Populate database using default mapping"
   ]
  },
  {
   "cell_type": "code",
   "execution_count": null,
   "metadata": {},
   "outputs": [],
   "source": [
    "def simple_wiki_doc(category, client):\n",
    "    \n",
    "    if type(category) is not list: category = [ category ]\n",
    "\n",
    "    wiki_wiki = wikipediaapi.Wikipedia('en')\n",
    "    \n",
    "    for c in category:\n",
    "\n",
    "        cat = wiki_wiki.page(f\"Category:{c}\")\n",
    "\n",
    "        for key in cat.categorymembers.keys():\n",
    "            page = wiki_wiki.page(key)\n",
    "\n",
    "            if not \"Category:\" in page.title:\n",
    "                \n",
    "            ''' Create Elasticsearch entry with a default index structure'''\n",
    "                \n",
    "                doc = {\"title\": page.title,\n",
    "                       \"page_id\":page.pageid,\n",
    "                       \"source\": page.fullurl,\n",
    "                       \"text\":page.text\n",
    "                }\n",
    "                \n",
    "                client.index(index=slugify(c), body=doc)\n",
    "                \n",
    "# simple_wiki_doc(category, client)"
   ]
  },
  {
   "cell_type": "markdown",
   "metadata": {},
   "source": [
    "### Check default data structure"
   ]
  },
  {
   "cell_type": "code",
   "execution_count": 5,
   "metadata": {},
   "outputs": [
    {
     "name": "stdout",
     "output_type": "stream",
     "text": [
      "{'coronaviridae': {'mappings': {'properties': {'page_id': {'type': 'long'},\n",
      "                                               'source': {'fields': {'keyword': {'ignore_above': 256,\n",
      "                                                                                 'type': 'keyword'}},\n",
      "                                                          'type': 'text'},\n",
      "                                               'text': {'fields': {'keyword': {'ignore_above': 256,\n",
      "                                                                               'type': 'keyword'}},\n",
      "                                                        'type': 'text'},\n",
      "                                               'title': {'fields': {'keyword': {'ignore_above': 256,\n",
      "                                                                                'type': 'keyword'}},\n",
      "                                                         'type': 'text'}}}}}\n"
     ]
    }
   ],
   "source": [
    "# Check an index mapping\n",
    "pprint(client.indices.get_mapping(\"coronaviridae\"))"
   ]
  },
  {
   "cell_type": "markdown",
   "metadata": {},
   "source": [
    "## Experimenting with search queries"
   ]
  },
  {
   "cell_type": "markdown",
   "metadata": {},
   "source": [
    "Elaticsearch query types: match, term and range\n",
    "\n",
    "- **Match query is a standard query for full text search. Performed against analyzed text.**\n",
    "- Term query is looking for an exact match\n",
    "- Range is used for finding numerical values"
   ]
  },
  {
   "cell_type": "code",
   "execution_count": 10,
   "metadata": {},
   "outputs": [],
   "source": [
    "\n",
    "index = ['presidents-of-the-united-states', \n",
    "         'marvel-comics-editors-in-chief', \n",
    "         'marvel-comics',\n",
    "         'coronaviridae']"
   ]
  },
  {
   "cell_type": "code",
   "execution_count": 11,
   "metadata": {},
   "outputs": [],
   "source": [
    "question = \"When was Barak Obama inaugurated?\""
   ]
  },
  {
   "cell_type": "markdown",
   "metadata": {},
   "source": [
    "### Simple full text search"
   ]
  },
  {
   "cell_type": "code",
   "execution_count": 12,
   "metadata": {},
   "outputs": [],
   "source": [
    "body = {\"query\": {\"match\": {\"text\": question}}}"
   ]
  },
  {
   "cell_type": "markdown",
   "metadata": {},
   "source": [
    "_search API response to a query includes several metafields, but we are mostly interest in the relevance score ('_score')"
   ]
  },
  {
   "cell_type": "code",
   "execution_count": 9,
   "metadata": {},
   "outputs": [
    {
     "name": "stdout",
     "output_type": "stream",
     "text": [
      "Example data strucure\n",
      "----------------------\n",
      "{'_id': 'aFzHFHEB8JJg9As-SDdp',\n",
      " '_index': 'coronaviridae',\n",
      " '_score': 3.4372873,\n",
      " '_source': {'page_id': 201983,\n",
      "             'source': 'https://en.wikipedia.org/wiki/Coronavirus',\n",
      "             'text': 'Coronaviruses are a group of related viruses that cause '\n",
      "                     'diseases in mammals and birds. In humans, coronaviruses '\n",
      "                     'cause respiratory tract infections that can be mild, '\n",
      "                     'such as some cases of the common cold (among other '\n",
      "                     'possible causes, predominantly rhinoviruses), and others '\n",
      "                     'that can be lethal, such as SARS, MERS, and COVID-19. '\n",
      "                     'Symptoms in other species vary: in chickens, they cause '\n",
      "                     'an upper respiratory tract disease, while in cows and '\n",
      "                     'pigs they cause diarrhea. There are yet to be vaccines '\n",
      "                     'or antiviral drugs to prevent or treat human coronavirus '\n",
      "                     'infections. \\n'\n",
      "                     'Coronaviruses constitute the subfamily '\n",
      "                     'Orthocoronavirinae, in the family Coronaviridae, order '\n",
      "                     'Nidovirales, and realm Riboviria. They are enveloped '\n",
      "                     'viruses with a positive-sense single-stranded RNA genome '\n",
      "                     'and a nucleocapsid of helical symmetry. The genome size '\n",
      "                     'of coronaviruses ranges from approximately 27 to 34 '\n",
      "                     'kilobases, the largest among known RNA viruses. The name '\n",
      "                     'coronavirus is derived from the Latin corona, meaning '\n",
      "                     '\"crown\" or \"halo\", which refers to the characteristic '\n",
      "                     'appearance reminiscent of a crown or a solar corona '\n",
      "                     'around the virions (virus particles) when viewed under '\n",
      "                     'two-dimensional transmission electron microscopy, due to '\n",
      "                     'the surface being covered in club-shaped protein '\n",
      "                     'spikes.\\n'\n",
      "                     '\\n'\n",
      "                     'Discovery\\n'\n",
      "                     'Human coronaviruses were first discovered in the late '\n",
      "                     '1960s. The earliest ones discovered were an infectious '\n",
      "                     'bronchitis virus in chickens and two in human patients '\n",
      "                     'with the common cold (later named human coronavirus 229E '\n",
      "                     'and human coronavirus OC43). Other members of this '\n",
      "                     'family have since been identified, including SARS-CoV in '\n",
      "                     '2003, HCoV NL63 in 2004, HKU1 in 2005, MERS-CoV in 2012, '\n",
      "                     'and SARS-CoV-2 (formerly known as 2019-nCoV) in 2019. '\n",
      "                     'Most of these have involved serious respiratory tract '\n",
      "                     'infections.\\n'\n",
      "                     '\\n'\n",
      "                     'Etymology\\n'\n",
      "                     'The name \"coronavirus\" is derived from Latin corona, '\n",
      "                     'meaning \"crown\" or \"wreath\", itself a borrowing from '\n",
      "                     'Greek κορώνη korṓnē, \"garland, wreath\". The name refers '\n",
      "                     'to the characteristic appearance of virions (the '\n",
      "                     'infective form of the virus) by electron microscopy, '\n",
      "                     'which have a fringe of large, bulbous surface '\n",
      "                     'projections creating an image reminiscent of a crown or '\n",
      "                     'of a solar corona. This morphology is created by the '\n",
      "                     'viral spike peplomers, which are proteins on the surface '\n",
      "                     'of the virus.\\n'\n",
      "                     '\\n'\n",
      "                     'Morphology\\n'\n",
      "                     'Coronaviruses are large pleomorphic spherical particles '\n",
      "                     'with bulbous surface projections. The diameter of the '\n",
      "                     'virus particles is around 120 nm. The envelope of the '\n",
      "                     'virus in electron micrographs appears as a distinct pair '\n",
      "                     'of electron dense shells.The viral envelope consists of '\n",
      "                     'a lipid bilayer where the membrane (M), envelope (E) and '\n",
      "                     'spike (S) structural proteins are anchored. A subset of '\n",
      "                     'coronaviruses (specifically the members of '\n",
      "                     'betacoronavirus subgroup A) also have a shorter '\n",
      "                     'spike-like surface protein called hemagglutinin esterase '\n",
      "                     '(HE).Inside the envelope, there is the nucleocapsid, '\n",
      "                     'which is formed from multiple copies of the nucleocapsid '\n",
      "                     '(N) protein, which are bound to the positive-sense '\n",
      "                     'single-stranded RNA genome in a continuous '\n",
      "                     'beads-on-a-string type conformation. The lipid bilayer '\n",
      "                     'envelope, membrane proteins, and nucleocapsid protect '\n",
      "                     'the virus when it is outside the host cell.\\n'\n",
      "                     '\\n'\n",
      "                     'Genome\\n'\n",
      "                     'Coronaviruses contain a positive-sense, single-stranded '\n",
      "                     'RNA genome. The genome size for coronaviruses ranges '\n",
      "                     'from approximately 27 to 34 kilobases. The genome size '\n",
      "                     'is one of the largest among RNA viruses. The genome has '\n",
      "                     'a 5′ methylated cap and a 3′ polyadenylated tail.The '\n",
      "                     'genome organization for a coronavirus is '\n",
      "                     '5′-leader-UTR-replicase/transcriptase-spike (S)-envelope '\n",
      "                     '(E)-membrane (M)-nucleocapsid (N)-3′UTR-poly (A) tail. '\n",
      "                     'The open reading frames 1a and 1b, which occupy the '\n",
      "                     'first two-thirds of the genome, encode the '\n",
      "                     'replicase/transcriptase polyprotein. The '\n",
      "                     'replicase/transcriptase polyprotein self cleaves to form '\n",
      "                     'the nonstructural proteins (nsps).The later reading '\n",
      "                     'frames encode the four major structural proteins: spike, '\n",
      "                     'envelope, membrane, and nucleocapsid. Interspersed '\n",
      "                     'between these reading frames are the reading frames for '\n",
      "                     'the accessory proteins. The number of accessory proteins '\n",
      "                     'and their function is unique depending on the specific '\n",
      "                     'coronavirus.\\n'\n",
      "                     '\\n'\n",
      "                     'Life cycle\\n'\n",
      "                     'Entry\\n'\n",
      "                     'Infection begins when the viral spike (S) glycoprotein '\n",
      "                     'attaches to its complementary host cell receptor. After '\n",
      "                     'attachment, a protease of the host cell cleaves and '\n",
      "                     'activates the receptor-attached spike protein. Depending '\n",
      "                     'on the host cell protease available, cleavage and '\n",
      "                     'activation allows the virus to enter the host cell by '\n",
      "                     'endocytosis or direct fusion of the viral envelop with '\n",
      "                     'the host membrane.On entry into the host cell, the virus '\n",
      "                     'particle is uncoated, and its genome enters the cell '\n",
      "                     'cytoplasm. The coronavirus RNA genome has a 5′ '\n",
      "                     'methylated cap and a 3′ polyadenylated tail, which '\n",
      "                     \"allows the RNA to attach to the host cell's ribosome for \"\n",
      "                     'translation. The host ribosome translates the initial '\n",
      "                     'overlapping open reading frame of the virus genome and '\n",
      "                     'forms a long polyprotein. The polyprotein has its own '\n",
      "                     'proteases which cleave the polyprotein into multiple '\n",
      "                     'nonstructural proteins.\\n'\n",
      "                     '\\n'\n",
      "                     'Replication\\n'\n",
      "                     'A number of the nonstructural proteins coalesce to form '\n",
      "                     'a multi-protein replicase-transcriptase complex (RTC). '\n",
      "                     'The main replicase-transcriptase protein is the '\n",
      "                     'RNA-dependent RNA polymerase (RdRp). It is directly '\n",
      "                     'involved in the replication and transcription of RNA '\n",
      "                     'from an RNA strand. The other nonstructural proteins in '\n",
      "                     'the complex assist in the replication and transcription '\n",
      "                     'process. The exoribonuclease non-structural protein, for '\n",
      "                     'instance, provides extra fidelity to replication by '\n",
      "                     'providing a proofreading function which the '\n",
      "                     'RNA-dependent RNA polymerase lacks.One of the main '\n",
      "                     'functions of the complex is to replicate the viral '\n",
      "                     'genome. RdRp directly mediates the synthesis of '\n",
      "                     'negative-sense genomic RNA from the positive-sense '\n",
      "                     'genomic RNA. This is followed by the replication of '\n",
      "                     'positive-sense genomic RNA from the negative-sense '\n",
      "                     'genomic RNA. The other important function of the complex '\n",
      "                     'is to transcribe the viral genome. RdRp directly '\n",
      "                     'mediates the synthesis of negative-sense subgenomic RNA '\n",
      "                     'molecules from the positive-sense genomic RNA. This is '\n",
      "                     'followed by the transcription of these negative-sense '\n",
      "                     'subgenomic RNA molecules to their corresponding '\n",
      "                     'positive-sense mRNAs.\\n'\n",
      "                     '\\n'\n",
      "                     'Release\\n'\n",
      "                     'The replicated positive-sense genomic RNA becomes the '\n",
      "                     'genome of the progeny viruses. The mRNAs are gene '\n",
      "                     'transcripts of the last third of the virus genome after '\n",
      "                     'the initial overlapping reading frame. These mRNAs are '\n",
      "                     \"translated by the host's ribosomes into the structural \"\n",
      "                     'proteins and a number of accessory proteins. RNA '\n",
      "                     'translation occurs inside the endoplasmic reticulum. The '\n",
      "                     'viral structural proteins S, E, and M move along the '\n",
      "                     'secretory pathway into the Golgi intermediate '\n",
      "                     'compartment. There, the M proteins direct most '\n",
      "                     'protein-protein interactions required for assembly of '\n",
      "                     'viruses following its binding to the nucleocapsid. '\n",
      "                     'Progeny viruses are then released from the host cell by '\n",
      "                     'exocytosis through secretory vesicles.\\n'\n",
      "                     '\\n'\n",
      "                     'Transmission\\n'\n",
      "                     'Human to human transmission of coronaviruses is '\n",
      "                     'primarily thought to occur among close contacts via '\n",
      "                     'respiratory droplets generated by sneezing and coughing. '\n",
      "                     'The interaction of the coronavirus spike protein with '\n",
      "                     'its complement host cell receptor is central in '\n",
      "                     'determining the tissue tropism, infectivity, and species '\n",
      "                     'range of the virus. The SARS coronavirus, for example, '\n",
      "                     'infects human cells by attaching to the '\n",
      "                     'angiotensin-converting enzyme 2 (ACE2) receptor.\\n'\n",
      "                     '\\n'\n",
      "                     'Taxonomy\\n'\n",
      "                     'The scientific name for coronavirus is '\n",
      "                     'Orthocoronavirinae or Coronavirinae. Coronavirus belongs '\n",
      "                     'to the family of Coronaviridae.\\n'\n",
      "                     '\\n'\n",
      "                     'Genus: Alphacoronavirus\\n'\n",
      "                     'Species: Human coronavirus 229E, Human coronavirus NL63, '\n",
      "                     'Miniopterus bat coronavirus 1, Miniopterus bat '\n",
      "                     'coronavirus HKU8, Porcine epidemic diarrhea virus, '\n",
      "                     'Rhinolophus bat coronavirus HKU2, Scotophilus bat '\n",
      "                     'coronavirus 512\\n'\n",
      "                     'Genus Betacoronavirus; type species: Murine coronavirus\\n'\n",
      "                     'Species: Betacoronavirus 1, Human coronavirus HKU1, '\n",
      "                     'Murine coronavirus, Pipistrellus bat coronavirus HKU5, '\n",
      "                     'Rousettus bat coronavirus HKU9, Severe acute respiratory '\n",
      "                     'syndrome-related coronavirus, Severe acute respiratory '\n",
      "                     'syndrome coronavirus 2, Tylonycteris bat coronavirus '\n",
      "                     'HKU4, Middle East respiratory syndrome-related '\n",
      "                     'coronavirus, Human coronavirus OC43, Hedgehog '\n",
      "                     'coronavirus 1 (EriCoV)\\n'\n",
      "                     'Genus Gammacoronavirus; type species: Infectious '\n",
      "                     'bronchitis virus\\n'\n",
      "                     'Species: Beluga whale coronavirus SW1, Infectious '\n",
      "                     'bronchitis virus\\n'\n",
      "                     'Genus Deltacoronavirus; type species: Bulbul coronavirus '\n",
      "                     'HKU11\\n'\n",
      "                     'Species: Bulbul coronavirus HKU11, Porcine coronavirus '\n",
      "                     'HKU15\\n'\n",
      "                     '\\n'\n",
      "                     'Evolution\\n'\n",
      "                     'The most recent common ancestor (MRCA) of all '\n",
      "                     'coronaviruses has been estimated to have existed as '\n",
      "                     'recently as 8000 BCE, though some models place the MRCA '\n",
      "                     'as far back as 55 million years or more, implying long '\n",
      "                     'term coevolution with bats. The MRCAs of the '\n",
      "                     'alphacoronavirus line has been placed at about 2400 BCE, '\n",
      "                     'the betacoronavirus line at 3300 BCE, the '\n",
      "                     'gammacoronavirus line at 2800 BCE, and the '\n",
      "                     'deltacoronavirus line at about 3000 BCE. It appears that '\n",
      "                     'bats and birds, as warm-blooded flying vertebrates, are '\n",
      "                     'ideal hosts for the coronavirus gene source (with bats '\n",
      "                     'for alphacoronavirus and betacoronavirus, and birds for '\n",
      "                     'gammacoronavirus and deltacoronavirus) to fuel '\n",
      "                     'coronavirus evolution and dissemination.Bovine '\n",
      "                     'coronavirus and canine respiratory coronaviruses '\n",
      "                     'diverged from a common ancestor recently (~ 1950). '\n",
      "                     'Bovine coronavirus and human coronavirus OC43 diverged '\n",
      "                     'around the 1890s. Bovine coronavirus diverged from the '\n",
      "                     'equine coronavirus species at the end of the 18th '\n",
      "                     'century.The MRCA of human coronavirus OC43 has been '\n",
      "                     'dated to the 1950s.MERS-CoV, although related to several '\n",
      "                     'bat coronavirus species, appears to have diverged from '\n",
      "                     'these several centuries ago. The human coronavirus NL63 '\n",
      "                     'and a bat coronavirus shared an MRCA 563–822 years '\n",
      "                     'ago.The most closely related bat coronavirus and '\n",
      "                     'SARS-CoV diverged in 1986. A path of evolution of the '\n",
      "                     'SARS virus and keen relationship with bats have been '\n",
      "                     'proposed. The authors suggest that the coronaviruses '\n",
      "                     'have been coevolved with bats for a long time and the '\n",
      "                     'ancestors of SARS-CoV first infected the species of the '\n",
      "                     'genus Hipposideridae, subsequently spread to species of '\n",
      "                     'the Rhinolophidae and then to civets, and finally to '\n",
      "                     'humans.Alpaca coronavirus and human coronavirus 229E '\n",
      "                     'diverged before 1960.\\n'\n",
      "                     '\\n'\n",
      "                     'Human coronaviruses\\n'\n",
      "                     'Coronaviruses vary significantly in risk factor. Some '\n",
      "                     'can kill more than 30% of those infected (such as '\n",
      "                     'MERS-CoV), and some are relatively harmless, such as the '\n",
      "                     'common cold. Coronaviruses cause colds with major '\n",
      "                     'symptoms, such as fever, and sore throat from swollen '\n",
      "                     'adenoids, occurring primarily in the winter and early '\n",
      "                     'spring seasons. Coronaviruses can cause pneumonia '\n",
      "                     '(either direct viral pneumonia or a secondary bacterial '\n",
      "                     'pneumonia) and bronchitis (either direct viral '\n",
      "                     'bronchitis or a secondary bacterial bronchitis). The '\n",
      "                     'much publicized human coronavirus discovered in 2003, '\n",
      "                     'SARS-CoV, which causes severe acute respiratory syndrome '\n",
      "                     '(SARS), has a unique pathogenesis because it causes both '\n",
      "                     'upper and lower respiratory tract infections.Seven '\n",
      "                     'strains of human coronaviruses are known, of which four '\n",
      "                     'produce the generally mild symptoms of the common cold:\\n'\n",
      "                     '\\n'\n",
      "                     'Human coronavirus OC43 (HCoV-OC43)\\n'\n",
      "                     'Human coronavirus HKU1\\n'\n",
      "                     'Human coronavirus NL63 (HCoV-NL63, New Haven '\n",
      "                     'coronavirus)\\n'\n",
      "                     'Human coronavirus 229E (HCoV-229E)– and three, symptoms '\n",
      "                     'that are potentially severe:\\n'\n",
      "                     '\\n'\n",
      "                     'Middle East respiratory syndrome-related coronavirus '\n",
      "                     '(MERS-CoV), previously known as novel coronavirus 2012 '\n",
      "                     'and HCoV-EMC\\n'\n",
      "                     'Severe acute respiratory syndrome coronavirus (SARS-CoV '\n",
      "                     'or \"SARS-classic\")\\n'\n",
      "                     'Severe acute respiratory syndrome coronavirus 2 '\n",
      "                     '(SARS-CoV-2), previously known as 2019-nCoV or \"novel '\n",
      "                     'coronavirus 2019\"The coronaviruses HCoV-229E, -NL63, '\n",
      "                     '-OC43, and -HKU1 continually circulate in the human '\n",
      "                     'population and cause respiratory infections in adults '\n",
      "                     'and children world-wide.\\n'\n",
      "                     '\\n'\n",
      "                     'Outbreaks of coronavirus-related diseases\\n'\n",
      "                     'Outbreaks of coronavirus types of relatively high '\n",
      "                     'mortality are as follows:\\n'\n",
      "                     '\\n'\n",
      "                     'Severe acute respiratory syndrome (SARS)\\n'\n",
      "                     'In 2003, following the outbreak of severe acute '\n",
      "                     'respiratory syndrome (SARS) which had begun the prior '\n",
      "                     'year in Asia, and secondary cases elsewhere in the '\n",
      "                     'world, the World Health Organization (WHO) issued a '\n",
      "                     'press release stating that a novel coronavirus '\n",
      "                     'identified by a number of laboratories was the causative '\n",
      "                     'agent for SARS. The virus was officially named the SARS '\n",
      "                     'coronavirus (SARS-CoV). More than 8,000 people were '\n",
      "                     'infected, about ten percent of whom died.\\n'\n",
      "                     '\\n'\n",
      "                     'Middle East respiratory syndrome (MERS)\\n'\n",
      "                     'In September 2012, a new type of coronavirus was '\n",
      "                     'identified, initially called Novel Coronavirus 2012, and '\n",
      "                     'now officially named Middle East respiratory syndrome '\n",
      "                     'coronavirus (MERS-CoV). The World Health Organization '\n",
      "                     'issued a global alert soon after. The WHO update on 28 '\n",
      "                     'September 2012 said the virus did not seem to pass '\n",
      "                     'easily from person to person. However, on 12 May 2013, a '\n",
      "                     'case of human-to-human transmission in France was '\n",
      "                     'confirmed by the French Ministry of Social Affairs and '\n",
      "                     'Health. In addition, cases of human-to-human '\n",
      "                     'transmission were reported by the Ministry of Health in '\n",
      "                     'Tunisia. Two confirmed cases involved people who seemed '\n",
      "                     'to have caught the disease from their late father, who '\n",
      "                     'became ill after a visit to Qatar and Saudi Arabia. '\n",
      "                     'Despite this, it appears the virus had trouble spreading '\n",
      "                     'from human to human, as most individuals who are '\n",
      "                     'infected do not transmit the virus. By 30 October 2013, '\n",
      "                     'there were 124 cases and 52 deaths in Saudi Arabia.After '\n",
      "                     'the Dutch Erasmus Medical Centre sequenced the virus, '\n",
      "                     'the virus was given a new name, Human '\n",
      "                     'Coronavirus–Erasmus Medical Centre (HCoV-EMC). The final '\n",
      "                     'name for the virus is Middle East respiratory syndrome '\n",
      "                     'coronavirus (MERS-CoV). In May 2014, the only two United '\n",
      "                     'States cases of MERS-CoV infection were recorded, both '\n",
      "                     'occurring in healthcare workers who worked in Saudi '\n",
      "                     'Arabia and then traveled to the U.S. One was treated in '\n",
      "                     'Indiana and one in Florida. Both were hospitalized '\n",
      "                     'temporarily and then discharged.In May 2015, an outbreak '\n",
      "                     'of MERS-CoV occurred in the Republic of Korea, when a '\n",
      "                     'man who had traveled to the Middle East, visited 4 '\n",
      "                     'hospitals in the Seoul area to treat his illness. This '\n",
      "                     'caused one of the largest outbreaks of MERS-CoV outside '\n",
      "                     'the Middle East. As of December 2019, 2,468 cases of '\n",
      "                     'MERS-CoV infection had been confirmed by laboratory '\n",
      "                     'tests, 851 of which were fatal, a mortality rate of '\n",
      "                     'approximately 34.5%.\\n'\n",
      "                     '\\n'\n",
      "                     'Coronavirus disease 2019 (COVID-19)\\n'\n",
      "                     'In December 2019, a pneumonia outbreak was reported in '\n",
      "                     'Wuhan, China. On 31 December 2019, the outbreak was '\n",
      "                     'traced to a novel strain of coronavirus, which was given '\n",
      "                     'the interim name 2019-nCoV by the World Health '\n",
      "                     'Organization (WHO), later renamed SARS-CoV-2 by the '\n",
      "                     'International Committee on Taxonomy of Viruses. Some '\n",
      "                     'researchers have suggested that the Huanan Seafood '\n",
      "                     'Wholesale Market may not be the original source of viral '\n",
      "                     'transmission to humans.As of 25 March 2020, there have '\n",
      "                     'been at least 21,181 confirmed deaths and more than '\n",
      "                     '467,594 confirmed cases in the coronavirus pneumonia '\n",
      "                     'pandemic. The Wuhan strain has been identified as a new '\n",
      "                     'strain of Betacoronavirus from group 2B with '\n",
      "                     'approximately 70% genetic similarity to the SARS-CoV. '\n",
      "                     'The virus has a 96% similarity to a bat coronavirus, so '\n",
      "                     'it is widely suspected to originate from bats as well.\\n'\n",
      "                     'The pandemic has resulted in travel restrictions and '\n",
      "                     'nationwide lockdowns in several countries.\\n'\n",
      "                     '\\n'\n",
      "                     'Other animals\\n'\n",
      "                     'Coronaviruses have been recognized as causing '\n",
      "                     'pathological conditions in veterinary medicine since the '\n",
      "                     'early 1970s. Except for avian infectious bronchitis, the '\n",
      "                     'major related diseases have mainly an intestinal '\n",
      "                     'location.\\n'\n",
      "                     '\\n'\n",
      "                     'Diseases caused\\n'\n",
      "                     'Coronaviruses primarily infect the upper respiratory and '\n",
      "                     'gastrointestinal tract of mammals and birds. They also '\n",
      "                     'cause a range of diseases in farm animals and '\n",
      "                     'domesticated pets, some of which can be serious and are '\n",
      "                     'a threat to the farming industry. In chickens, the '\n",
      "                     'infectious bronchitis virus (IBV), a coronavirus, '\n",
      "                     'targets not only the respiratory tract but also the '\n",
      "                     'urogenital tract. The virus can spread to different '\n",
      "                     'organs throughout the chicken. Economically significant '\n",
      "                     'coronaviruses of farm animals include porcine '\n",
      "                     'coronavirus (transmissible gastroenteritis coronavirus, '\n",
      "                     'TGE) and bovine coronavirus, which both result in '\n",
      "                     'diarrhea in young animals. Feline coronavirus: two '\n",
      "                     'forms, feline enteric coronavirus is a pathogen of minor '\n",
      "                     'clinical significance, but spontaneous mutation of this '\n",
      "                     'virus can result in feline infectious peritonitis (FIP), '\n",
      "                     'a disease associated with high mortality. Similarly, '\n",
      "                     'there are two types of coronavirus that infect ferrets: '\n",
      "                     'Ferret enteric coronavirus causes a gastrointestinal '\n",
      "                     'syndrome known as epizootic catarrhal enteritis (ECE), '\n",
      "                     'and a more lethal systemic version of the virus (like '\n",
      "                     'FIP in cats) known as ferret systemic coronavirus (FSC). '\n",
      "                     'There are two types of canine coronavirus (CCoV), one '\n",
      "                     'that causes mild gastrointestinal disease and one that '\n",
      "                     'has been found to cause respiratory disease. Mouse '\n",
      "                     'hepatitis virus (MHV) is a coronavirus that causes an '\n",
      "                     'epidemic murine illness with high mortality, especially '\n",
      "                     'among colonies of laboratory mice. Sialodacryoadenitis '\n",
      "                     'virus (SDAV) is highly infectious coronavirus of '\n",
      "                     'laboratory rats, which can be transmitted between '\n",
      "                     'individuals by direct contact and indirectly by aerosol. '\n",
      "                     'Acute infections have high morbidity and tropism for the '\n",
      "                     'salivary, lachrymal and harderian glands.A HKU2-related '\n",
      "                     'bat coronavirus called swine acute diarrhea syndrome '\n",
      "                     'coronavirus (SADS-CoV) causes diarrhea in pigs.Prior to '\n",
      "                     'the discovery of SARS-CoV, MHV had been the best-studied '\n",
      "                     'coronavirus both in vivo and in vitro as well as at the '\n",
      "                     'molecular level. Some strains of MHV cause a progressive '\n",
      "                     'demyelinating encephalitis in mice which has been used '\n",
      "                     'as a murine model for multiple sclerosis. Significant '\n",
      "                     'research efforts have been focused on elucidating the '\n",
      "                     'viral pathogenesis of these animal coronaviruses, '\n",
      "                     'especially by virologists interested in veterinary and '\n",
      "                     'zoonotic diseases.\\n'\n",
      "                     '\\n'\n",
      "                     'In domestic animals\\n'\n",
      "                     'Infectious bronchitis virus (IBV) causes avian '\n",
      "                     'infectious bronchitis.\\n'\n",
      "                     'Porcine coronavirus (transmissible gastroenteritis '\n",
      "                     'coronavirus of pigs, TGEV).\\n'\n",
      "                     'Bovine coronavirus (BCV), responsible for severe profuse '\n",
      "                     'enteritis in of young calves.\\n'\n",
      "                     'Feline coronavirus (FCoV) causes mild enteritis in cats '\n",
      "                     'as well as severe Feline infectious peritonitis (other '\n",
      "                     'variants of the same virus).\\n'\n",
      "                     'the two types of canine coronavirus (CCoV) (one causing '\n",
      "                     'enteritis, the other found in respiratory diseases).\\n'\n",
      "                     'Turkey coronavirus (TCV) causes enteritis in turkeys.\\n'\n",
      "                     'Ferret enteric coronavirus causes epizootic catarrhal '\n",
      "                     'enteritis in ferrets.\\n'\n",
      "                     'Ferret systemic coronavirus causes FIP-like systemic '\n",
      "                     'syndrome in ferrets.\\n'\n",
      "                     'Pantropic canine coronavirus.\\n'\n",
      "                     'Rabbit enteric coronavirus causes acute gastrointestinal '\n",
      "                     'disease and diarrhea in young European rabbits. '\n",
      "                     'Mortality rates are high.\\n'\n",
      "                     'Porcine epidemic diarrhea virus (PED or PEDV), has '\n",
      "                     'emerged around the world.\\n'\n",
      "                     '\\n'\n",
      "                     'Genomic cis-acting elements\\n'\n",
      "                     'In common with the genomes of all other RNA viruses, '\n",
      "                     'coronavirus genomes contain cis-acting RNA elements that '\n",
      "                     'ensure the specific replication of viral RNA by a '\n",
      "                     'virally encoded RNA-dependent RNA polymerase. The '\n",
      "                     'embedded cis-acting elements devoted to coronavirus '\n",
      "                     'replication constitute a small fraction of the total '\n",
      "                     'genome, but this is presumed to be a reflection of the '\n",
      "                     'fact that coronaviruses have the largest genomes of all '\n"
     ]
    },
    {
     "name": "stdout",
     "output_type": "stream",
     "text": [
      "                     'RNA viruses. The boundaries of cis-acting elements '\n",
      "                     'essential to replication are fairly well-defined, and '\n",
      "                     'the RNA secondary structures of these regions are '\n",
      "                     'understood. However, how these cis-acting structures and '\n",
      "                     'sequences interact with the viral replicase and host '\n",
      "                     'cell components to allow RNA synthesis is not well '\n",
      "                     'understood.\\n'\n",
      "                     '\\n'\n",
      "                     'Genome packaging\\n'\n",
      "                     'The assembly of infectious coronavirus particles '\n",
      "                     'requires the selection of viral genomic RNA from a '\n",
      "                     'cellular pool that contains an abundant excess of '\n",
      "                     'non-viral and viral RNAs. Among the seven to ten '\n",
      "                     'specific viral mRNAs synthesized in virus-infected '\n",
      "                     'cells, only the full-length genomic RNA is packaged '\n",
      "                     'efficiently into coronavirus particles. Studies have '\n",
      "                     'revealed cis-acting elements and trans-acting viral '\n",
      "                     'factors involved in the coronavirus genome encapsidation '\n",
      "                     'and packaging. Understanding the molecular mechanisms of '\n",
      "                     'genome selection and packaging is critical for '\n",
      "                     'developing antiviral strategies and viral expression '\n",
      "                     'vectors based on the coronavirus genome.\\n'\n",
      "                     '\\n'\n",
      "                     'See also\\n'\n",
      "                     'Bat-borne virus\\n'\n",
      "                     'Misinformation related to the 2019–2020 coronavirus '\n",
      "                     'outbreak\\n'\n",
      "                     'SARS conspiracy theory\\n'\n",
      "                     'Zoonosis\\n'\n",
      "                     '\\n'\n",
      "                     'References\\n'\n",
      "                     '\\n'\n",
      "                     '\\n'\n",
      "                     '== Further reading ==',\n",
      "             'title': 'Coronavirinae'},\n",
      " '_type': '_doc'}\n"
     ]
    }
   ],
   "source": [
    "docs = client.search(body, index=index)\n",
    "\n",
    "print(\"Example data strucure\")\n",
    "print(\"----------------------\")\n",
    "pprint(docs['hits']['hits'][6])"
   ]
  },
  {
   "cell_type": "code",
   "execution_count": 13,
   "metadata": {},
   "outputs": [
    {
     "name": "stdout",
     "output_type": "stream",
     "text": [
      "Question: When was Barak Obama inaugurated?\n",
      "\n",
      "Search results:\n",
      "----------------------\n",
      "Result 0: Bill Clinton | Relevance score 7.305959 | Index presidents-of-the-united-states\n",
      "    Link: https://en.wikipedia.org/wiki/Bill_Clinton\n",
      "Result 1: Barack Obama | Relevance score 4.0938215 | Index presidents-of-the-united-states\n",
      "    Link: https://en.wikipedia.org/wiki/Barack_Obama\n",
      "Result 2: Donald Trump | Relevance score 3.9640172 | Index presidents-of-the-united-states\n",
      "    Link: https://en.wikipedia.org/wiki/Donald_Trump\n",
      "Result 3: Jimmy Carter | Relevance score 3.5737386 | Index presidents-of-the-united-states\n",
      "    Link: https://en.wikipedia.org/wiki/Jimmy_Carter\n",
      "Result 4: President of the United States | Relevance score 3.5697677 | Index presidents-of-the-united-states\n",
      "    Link: https://en.wikipedia.org/wiki/President_of_the_United_States\n",
      "Result 5: Coronavirus | Relevance score 3.4372873 | Index coronaviridae\n",
      "    Link: https://en.wikipedia.org/wiki/Coronavirus\n",
      "Result 6: Coronavirinae | Relevance score 3.4372873 | Index coronaviridae\n",
      "    Link: https://en.wikipedia.org/wiki/Coronavirus\n",
      "Result 7: George H. W. Bush | Relevance score 3.091462 | Index presidents-of-the-united-states\n",
      "    Link: https://en.wikipedia.org/wiki/George_H._W._Bush\n",
      "Result 8: George W. Bush | Relevance score 3.053765 | Index presidents-of-the-united-states\n",
      "    Link: https://en.wikipedia.org/wiki/George_W._Bush\n",
      "Result 9: Bat-borne virus | Relevance score 3.040645 | Index coronaviridae\n",
      "    Link: https://en.wikipedia.org/wiki/Bat-borne_virus\n"
     ]
    }
   ],
   "source": [
    "print(f\"Question: {question}\")\n",
    "print(\"\")\n",
    "print(\"Search results:\")\n",
    "print(\"----------------------\")\n",
    "\n",
    "for i, doc in enumerate(docs[\"hits\"][\"hits\"]):\n",
    "    title = doc['_source']['title']\n",
    "    score = doc['_score']\n",
    "    idx = doc['_index']\n",
    "    url = doc['_source']['source']\n",
    "    print(f'Result {i}: {title} | Relevance score {score} | Index {idx}')\n",
    "    print(f'    Link: {url}')"
   ]
  },
  {
   "cell_type": "markdown",
   "metadata": {},
   "source": [
    "### Match phrase"
   ]
  },
  {
   "cell_type": "markdown",
   "metadata": {},
   "source": [
    "match_phrase query: \n",
    "* All the terms must appear in the field, and in the same order\n",
    "* Can add custom query analyzer"
   ]
  },
  {
   "cell_type": "code",
   "execution_count": 26,
   "metadata": {},
   "outputs": [
    {
     "name": "stdout",
     "output_type": "stream",
     "text": [
      "Question: When was Barak Obama inaugurated?\n",
      "\n",
      "Search results:\n",
      "----------------------\n",
      "Result 0: Barack Obama | Relevance score 7.8283415\n",
      "    Link: https://en.wikipedia.org/wiki/Barack_Obama\n"
     ]
    }
   ],
   "source": [
    "body0 = \\\n",
    "    {\n",
    "      \"query\": {\"match_phrase\": \n",
    "                    {\"title\": \"Barack Obama\"}\n",
    "               }\n",
    "    }\n",
    "docs0 = client.search(body0, index=index)\n",
    "\n",
    "print(f\"Question: {question}\")\n",
    "print(\"\")\n",
    "print(\"Search results:\")\n",
    "print(\"----------------------\")\n",
    "for i, doc in enumerate(docs0['hits']['hits']):\n",
    "    title = doc['_source']['title']\n",
    "    score = doc['_score']\n",
    "    url = doc['_source']['source']\n",
    "    print(f'Result {i}: {title} | Relevance score {score}')\n",
    "    print(f'    Link: {url}')"
   ]
  },
  {
   "cell_type": "markdown",
   "metadata": {},
   "source": [
    "### Multi-field search"
   ]
  },
  {
   "cell_type": "code",
   "execution_count": 16,
   "metadata": {},
   "outputs": [
    {
     "name": "stdout",
     "output_type": "stream",
     "text": [
      "Question: When was Barak Obama inaugurated?\n",
      "\n",
      "Search results:\n",
      "----------------------\n",
      "Result 0: Bill Clinton | Relevance score 7.305959\n",
      "    Link: https://en.wikipedia.org/wiki/Bill_Clinton\n",
      "Result 1: Barack Obama | Relevance score 4.0938215\n",
      "    Link: https://en.wikipedia.org/wiki/Barack_Obama\n",
      "Result 2: Donald Trump | Relevance score 3.9640172\n",
      "    Link: https://en.wikipedia.org/wiki/Donald_Trump\n",
      "Result 3: Jimmy Carter | Relevance score 3.5737386\n",
      "    Link: https://en.wikipedia.org/wiki/Jimmy_Carter\n",
      "Result 4: President of the United States | Relevance score 3.5697677\n",
      "    Link: https://en.wikipedia.org/wiki/President_of_the_United_States\n",
      "Result 5: Coronavirus | Relevance score 3.4372873\n",
      "    Link: https://en.wikipedia.org/wiki/Coronavirus\n",
      "Result 6: Coronavirinae | Relevance score 3.4372873\n",
      "    Link: https://en.wikipedia.org/wiki/Coronavirus\n",
      "Result 7: George H. W. Bush | Relevance score 3.091462\n",
      "    Link: https://en.wikipedia.org/wiki/George_H._W._Bush\n",
      "Result 8: George W. Bush | Relevance score 3.053765\n",
      "    Link: https://en.wikipedia.org/wiki/George_W._Bush\n",
      "Result 9: Bat-borne virus | Relevance score 3.040645\n",
      "    Link: https://en.wikipedia.org/wiki/Bat-borne_virus\n"
     ]
    }
   ],
   "source": [
    "body1 = \\\n",
    "{\n",
    "  \"query\": {\n",
    "    \"multi_match\" : {\n",
    "      \"query\":    question, \n",
    "      \"fields\": [ \"title\", \"text\" ] \n",
    "    }\n",
    "  }\n",
    "}\n",
    "\n",
    "docs1 = client.search(body1, index=index)\n",
    "\n",
    "print(f\"Question: {question}\")\n",
    "print(\"\")\n",
    "print(\"Search results:\")\n",
    "print(\"----------------------\")\n",
    "for i, doc in enumerate(docs1[\"hits\"][\"hits\"]):\n",
    "    title = doc['_source']['title']\n",
    "    score = doc['_score']\n",
    "    url = doc['_source']['source']\n",
    "    print(f'Result {i}: {title} | Relevance score {score}')\n",
    "    print(f'    Link: {url}')"
   ]
  },
  {
   "cell_type": "markdown",
   "metadata": {},
   "source": [
    "Wikipedia \"Barack Obama\" is still not at the top of the list. This is because other alrtiles may have many mentions of Barack Obama too."
   ]
  },
  {
   "cell_type": "markdown",
   "metadata": {},
   "source": [
    "### Dynamic boosting"
   ]
  },
  {
   "cell_type": "markdown",
   "metadata": {},
   "source": [
    "Dynamic boosting allows to boost some document fields during query"
   ]
  },
  {
   "cell_type": "code",
   "execution_count": 17,
   "metadata": {},
   "outputs": [
    {
     "name": "stdout",
     "output_type": "stream",
     "text": [
      "Result 0: Barack Obama | Relevance score 15.836334\n",
      "    Link: https://en.wikipedia.org/wiki/Barack_Obama\n",
      "Result 1: Bill Clinton | Relevance score 7.305959\n",
      "    Link: https://en.wikipedia.org/wiki/Bill_Clinton\n",
      "Result 2: Donald Trump | Relevance score 3.9640172\n",
      "    Link: https://en.wikipedia.org/wiki/Donald_Trump\n",
      "Result 3: Jimmy Carter | Relevance score 3.5737386\n",
      "    Link: https://en.wikipedia.org/wiki/Jimmy_Carter\n",
      "Result 4: President of the United States | Relevance score 3.5697677\n",
      "    Link: https://en.wikipedia.org/wiki/President_of_the_United_States\n",
      "Result 5: Coronavirus | Relevance score 3.4372873\n",
      "    Link: https://en.wikipedia.org/wiki/Coronavirus\n",
      "Result 6: Coronavirinae | Relevance score 3.4372873\n",
      "    Link: https://en.wikipedia.org/wiki/Coronavirus\n",
      "Result 7: George H. W. Bush | Relevance score 3.091462\n",
      "    Link: https://en.wikipedia.org/wiki/George_H._W._Bush\n",
      "Result 8: George W. Bush | Relevance score 3.053765\n",
      "    Link: https://en.wikipedia.org/wiki/George_W._Bush\n",
      "Result 9: Bat-borne virus | Relevance score 3.040645\n",
      "    Link: https://en.wikipedia.org/wiki/Bat-borne_virus\n"
     ]
    }
   ],
   "source": [
    "body2 = \\\n",
    "    {\n",
    "      \"query\": {\n",
    "        \"bool\": {\n",
    "          \"should\": [\n",
    "            {\n",
    "              \"match\": {\n",
    "                \"title\": {\n",
    "                  \"query\": question,\n",
    "                  \"boost\": 3\n",
    "                }\n",
    "              }\n",
    "            },\n",
    "            {\n",
    "              \"match\": { \n",
    "                \"text\": question\n",
    "              }\n",
    "            }\n",
    "          ]\n",
    "        }\n",
    "      }\n",
    "    }\n",
    "\n",
    "docs2 = client.search(body2, index=index)\n",
    "for i, doc in enumerate(docs2[\"hits\"][\"hits\"]):\n",
    "    title = doc['_source']['title']\n",
    "    score = doc['_score']\n",
    "    url = doc['_source']['source']\n",
    "    print(f'Result {i}: {title} | Relevance score {score}')\n",
    "    print(f'    Link: {url}')"
   ]
  },
  {
   "cell_type": "markdown",
   "metadata": {},
   "source": [
    "### Multifield search with boosing - short version"
   ]
  },
  {
   "cell_type": "code",
   "execution_count": 18,
   "metadata": {},
   "outputs": [
    {
     "name": "stdout",
     "output_type": "stream",
     "text": [
      "Result 0: Barack Obama | Relevance score 11.742513\n",
      "    Link: https://en.wikipedia.org/wiki/Barack_Obama\n",
      "Result 1: Bill Clinton | Relevance score 7.305959\n",
      "    Link: https://en.wikipedia.org/wiki/Bill_Clinton\n",
      "Result 2: Donald Trump | Relevance score 3.9640172\n",
      "    Link: https://en.wikipedia.org/wiki/Donald_Trump\n",
      "Result 3: Jimmy Carter | Relevance score 3.5737386\n",
      "    Link: https://en.wikipedia.org/wiki/Jimmy_Carter\n",
      "Result 4: President of the United States | Relevance score 3.5697677\n",
      "    Link: https://en.wikipedia.org/wiki/President_of_the_United_States\n",
      "Result 5: Coronavirus | Relevance score 3.4372873\n",
      "    Link: https://en.wikipedia.org/wiki/Coronavirus\n",
      "Result 6: Coronavirinae | Relevance score 3.4372873\n",
      "    Link: https://en.wikipedia.org/wiki/Coronavirus\n",
      "Result 7: George H. W. Bush | Relevance score 3.091462\n",
      "    Link: https://en.wikipedia.org/wiki/George_H._W._Bush\n",
      "Result 8: George W. Bush | Relevance score 3.053765\n",
      "    Link: https://en.wikipedia.org/wiki/George_W._Bush\n",
      "Result 9: Bat-borne virus | Relevance score 3.040645\n",
      "    Link: https://en.wikipedia.org/wiki/Bat-borne_virus\n"
     ]
    }
   ],
   "source": [
    "body3 = \\\n",
    "{\n",
    "  \"query\": {\n",
    "    \"multi_match\" : {\n",
    "      \"query\":    question, \n",
    "      \"fields\": [ \"title^3\", \"text\" ] \n",
    "    }\n",
    "  }\n",
    "}\n",
    "\n",
    "docs3 = client.search(body3, index=index)\n",
    "for i, doc in enumerate(docs3[\"hits\"][\"hits\"]):\n",
    "    title = doc['_source']['title']\n",
    "    score = doc['_score']\n",
    "    url = doc['_source']['source']\n",
    "    print(f'Result {i}: {title} | Relevance score {score}')\n",
    "    print(f'    Link: {url}')"
   ]
  },
  {
   "cell_type": "markdown",
   "metadata": {},
   "source": [
    "Probable reason for coronavirus being high on the list is the default N-gram tokenizer. The tokenizer analyzes the input text and produces letter N-grams with N of 1 and 2:\n",
    "```\n",
    "{\n",
    "  \"tokenizer\": \"ngram\",\n",
    "  \"text\": \"Quick Fox\"\n",
    "}\n",
    "\n",
    "[ Q, Qu, u, ui, i, ic, c, ck, k, \"k \", \" \", \" F\", F, Fo, o, ox, x ]\n",
    "\n",
    "```"
   ]
  },
  {
   "cell_type": "markdown",
   "metadata": {},
   "source": [
    "## Customizing indexing  - mappings\n",
    "\n",
    "Qary chatbot uses BERT or ALBERT model to generate answers from context.\n",
    "For it to perform better we want to only give it shorter and most relevant context. Storing articles in sections may improve performance\n",
    "\n",
    "To store wikipedia artilcles in sections, we define the text field as nested datatype:"
   ]
  },
  {
   "cell_type": "code",
   "execution_count": 19,
   "metadata": {},
   "outputs": [],
   "source": [
    "mapping = {\n",
    "    \"properties\": {\n",
    "        \n",
    "            \"text\": {\n",
    "                \"type\": \"nested\",\n",
    "                \"properties\":{\n",
    "                    \"section_num\": {\"type\":\"integer\"},\n",
    "                    \"section_title\": {\"type\":\"text\"},\n",
    "                    \"section_content\": {\"type\":\"text\"}\n",
    "                }\n",
    "            },\n",
    "        \n",
    "            \"title\": {\n",
    "                \"type\": \"text\"\n",
    "            },\n",
    "        \n",
    "            \"source\": {\n",
    "                \"type\": \"text\"\n",
    "            },\n",
    "        \n",
    "            \"page_id\": {\n",
    "                \"type\": \"long\"\n",
    "            },\n",
    "            \n",
    "        }\n",
    "    }\n"
   ]
  },
  {
   "cell_type": "code",
   "execution_count": 20,
   "metadata": {},
   "outputs": [
    {
     "name": "stdout",
     "output_type": "stream",
     "text": [
      "{'properties': {'page_id': {'type': 'long'},\n",
      "                'source': {'type': 'text'},\n",
      "                'text': {'properties': {'section_content': {'type': 'text'},\n",
      "                                        'section_num': {'type': 'integer'},\n",
      "                                        'section_title': {'type': 'text'}},\n",
      "                         'type': 'nested'},\n",
      "                'title': {'type': 'text'}}}\n"
     ]
    }
   ],
   "source": [
    "pprint(mapping)"
   ]
  },
  {
   "cell_type": "code",
   "execution_count": 21,
   "metadata": {},
   "outputs": [
    {
     "data": {
      "text/plain": [
       "{'natural-languge-processing': {'aliases': {}},\n",
       " 'american-comedy-webcomics': {'aliases': {}},\n",
       " 'coronaviridae': {'aliases': {}},\n",
       " 'presidents-of-the-united-states': {'aliases': {}},\n",
       " 'american-comics-writers': {'aliases': {}},\n",
       " 'pandemics': {'aliases': {}},\n",
       " 'american-science-fiction-television-series': {'aliases': {}},\n",
       " 'marvel-comics': {'aliases': {}},\n",
       " 'marvel-comics-editors-in-chief': {'aliases': {}}}"
      ]
     },
     "execution_count": 21,
     "metadata": {},
     "output_type": "execute_result"
    }
   ],
   "source": [
    "# Check indices existing in the database\n",
    "client.indices.get_alias(\"\")"
   ]
  },
  {
   "cell_type": "markdown",
   "metadata": {},
   "source": [
    "### Create some new indices"
   ]
  },
  {
   "cell_type": "code",
   "execution_count": 3,
   "metadata": {},
   "outputs": [],
   "source": [
    "index1 = [\n",
    "    'natural-languge-processing',\n",
    "    'american-comedy-webcomics',\n",
    "    'american-comics-writers',\n",
    "    'american-science-fiction-television-series',\n",
    "    'pandemics'\n",
    "]"
   ]
  },
  {
   "cell_type": "code",
   "execution_count": 23,
   "metadata": {},
   "outputs": [
    {
     "data": {
      "text/plain": [
       "{'natural-languge-processing': {'mappings': {'properties': {'page_id': {'type': 'long'},\n",
       "    'source': {'type': 'text'},\n",
       "    'text': {'type': 'nested',\n",
       "     'properties': {'section_content': {'type': 'text'},\n",
       "      'section_num': {'type': 'integer'},\n",
       "      'section_title': {'type': 'text'}}},\n",
       "    'title': {'type': 'text'}}}}}"
      ]
     },
     "execution_count": 23,
     "metadata": {},
     "output_type": "execute_result"
    }
   ],
   "source": [
    "# create new index and check if it now exists in database\n",
    "client.indices.get_mapping('natural-languge-processing')"
   ]
  },
  {
   "cell_type": "code",
   "execution_count": null,
   "metadata": {},
   "outputs": [],
   "source": [
    "def build_entry(page):\n",
    "    \n",
    "    sections = [{\"section_num\":0,\n",
    "                 \"section_title\": \"Summary\",\n",
    "                 \"section_content\": page.summary}]\n",
    "    for i, section in enumerate(page.sections, start=1):\n",
    "        sections_dict = {}\n",
    "        sections_dict ['section_num'] = i\n",
    "        sections_dict['section_title'] = section.title\n",
    "        sections_dict['section_content'] = section.text\n",
    "\n",
    "        sections.append(sections_dict)\n",
    "        \n",
    "    return {'text': sections,\n",
    "            'title': page.title,\n",
    "           'source': page.fullurl,\n",
    "           'page_id': page.pageid,\n",
    "           }"
   ]
  },
  {
   "cell_type": "code",
   "execution_count": null,
   "metadata": {},
   "outputs": [],
   "source": [
    "def search_insert_wiki(category, mapping):\n",
    "    \n",
    "    if type(category) is not list: category = [ category ]\n",
    "\n",
    "    wiki_wiki = wikipediaapi.Wikipedia('en')\n",
    "    \n",
    "    for c in category:\n",
    "        \n",
    "        '''Create and empty index with predefined data structure'''\n",
    "        client.indices.create(index=slugify(c), body={\"mappings\":mapping})\n",
    "        \n",
    "        print(f\"Index {c} has been created\")\n",
    "\n",
    "        cat = wiki_wiki.page(f\"Category:{c}\")\n",
    "\n",
    "        for key in cat.categorymembers.keys():\n",
    "            page = wiki_wiki.page(key)\n",
    "\n",
    "            if not \"Category:\" in page.title:\n",
    "                ''' Build a dictionary and add in to the index'''\n",
    "                doc = build_entry(page)\n",
    "                try:\n",
    "                    client.index(index=slugify(c), body=doc)\n",
    "                    print(f\"Success! New document was added to {c} index\")\n",
    "                except:\n",
    "                    print(\"Something went wrong\")\n",
    "                \n",
    "# search_insert_wiki('Pandemics', mapping)"
   ]
  },
  {
   "cell_type": "markdown",
   "metadata": {},
   "source": [
    "### Querying nested data"
   ]
  },
  {
   "cell_type": "code",
   "execution_count": 1,
   "metadata": {},
   "outputs": [],
   "source": [
    "question1 = \"stan lee\""
   ]
  },
  {
   "cell_type": "raw",
   "metadata": {},
   "source": [
    "By confining query to a section that we know to be particularly relevant, in this case Summary, we can get good results without boosting"
   ]
  },
  {
   "cell_type": "code",
   "execution_count": 12,
   "metadata": {
    "scrolled": true
   },
   "outputs": [
    {
     "name": "stdout",
     "output_type": "stream",
     "text": [
      "Result 0: Carl Wessler | Relevance score 11.118463 | 12294922 | american-comics-writers\n",
      "    Link: https://en.wikipedia.org/wiki/Carl_Wessler\n",
      "Result 1: Don Rico | Relevance score 10.556743 | 2780362 | american-comics-writers\n",
      "    Link: https://en.wikipedia.org/wiki/Don_Rico\n",
      "Result 2: Jim Salicrup | Relevance score 10.427067 | 12895497 | american-comics-writers\n",
      "    Link: https://en.wikipedia.org/wiki/Jim_Salicrup\n",
      "Result 3: Colleen Doran | Relevance score 10.426506 | 261414 | american-comics-writers\n",
      "    Link: https://en.wikipedia.org/wiki/Colleen_Doran\n",
      "Result 4: Suburban Tribe | Relevance score 9.495357 | 3928893 | american-comedy-webcomics\n",
      "    Link: https://en.wikipedia.org/wiki/Suburban_Tribe\n",
      "Result 5: Stan Lee | Relevance score 8.471656 | 18598186 | american-comics-writers\n",
      "    Link: https://en.wikipedia.org/wiki/Stan_Lee\n",
      "Result 6: Stan Lee | Relevance score 8.471656 | 18598186 | american-comics-writers\n",
      "    Link: https://en.wikipedia.org/wiki/Stan_Lee\n",
      "Result 7: Stan Sakai | Relevance score 7.857004 | 238157 | american-comics-writers\n",
      "    Link: https://en.wikipedia.org/wiki/Stan_Sakai\n",
      "Result 8: Jim Lee | Relevance score 7.762862 | 620711 | american-comics-writers\n",
      "    Link: https://en.wikipedia.org/wiki/Jim_Lee\n",
      "Result 9: Lee Kohse | Relevance score 7.6352158 | 10191432 | american-comics-writers\n",
      "    Link: https://en.wikipedia.org/wiki/Lee_Kohse\n"
     ]
    }
   ],
   "source": [
    "body4={\n",
    "    \"query\": {\n",
    "        \"nested\":{\n",
    "            \"path\":\"text\",\n",
    "            \"query\":{\n",
    "                \"bool\": {\n",
    "                \"must\": [\n",
    "                    {\"match\":{\"text.section_content\":question1}},\n",
    "                    {\"match\":{\"text.section_title\":\"Summary\"}},\n",
    "                    ]\n",
    "                }\n",
    "            }\n",
    "        }\n",
    "    }\n",
    "}\n",
    "\n",
    "\n",
    "docs4 = client.search(body4, index=index1)\n",
    "\n",
    "for i, doc in enumerate(docs4[\"hits\"][\"hits\"]):\n",
    "    title = doc['_source']['title']\n",
    "    score = doc['_score']\n",
    "    url = doc['_source']['source']\n",
    "    pageid =doc['_source']['page_id']\n",
    "    ind = doc[\"_index\"]\n",
    "    print(f'Result {i}: {title} | Relevance score {score} | {pageid} | {ind}')\n",
    "    print(f'    Link: {url}')"
   ]
  },
  {
   "cell_type": "code",
   "execution_count": null,
   "metadata": {},
   "outputs": [],
   "source": []
  },
  {
   "cell_type": "code",
   "execution_count": null,
   "metadata": {},
   "outputs": [],
   "source": []
  }
 ],
 "metadata": {
  "kernelspec": {
   "display_name": "Python [conda env:notebooks] *",
   "language": "python",
   "name": "conda-env-notebooks-py"
  },
  "language_info": {
   "codemirror_mode": {
    "name": "ipython",
    "version": 3
   },
   "file_extension": ".py",
   "mimetype": "text/x-python",
   "name": "python",
   "nbconvert_exporter": "python",
   "pygments_lexer": "ipython3",
   "version": "3.8.2"
  }
 },
 "nbformat": 4,
 "nbformat_minor": 4
}
