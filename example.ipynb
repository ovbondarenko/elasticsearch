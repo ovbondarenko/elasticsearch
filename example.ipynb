{
 "cells": [
  {
   "cell_type": "markdown",
   "metadata": {},
   "source": [
    "## This is the first slide (1)\n",
    "- We will create simple set of slides\n",
    "- Let's analyse some data\n",
    "- Create a figure from the data\n",
    "- Create a tablelibrary(tidyverse) (2)mtcars1 <- mtcars %>% (3)\n",
    "             head() \n",
    "mtcars1 # produces the first five rows in the form of a tablemtcars %>% (4)\n",
    "  ggplot(aes(x = disp, y = mpg)) +\n",
    "  geom_point() +\n",
    "  geom_smooth(method = \"loess\", colour = \"blue\", se = FALSE) +\n",
    "  geom_smooth(method = \"lm\", colour = \"red\", se = FALSE) +\n",
    "  labs(x = \"Engine size\",\n",
    "      y = \"Miles per gallon\",\n",
    "      title = \"Relationship between engine size and milage for cars\") +\n",
    "  theme_bw() +\n",
    "  theme(panel.grid.major = element_blank(),\n",
    "          panel.grid.minor = element_blank()) +\n",
    "  ggsave(\"test5.png\")"
   ]
  },
  {
   "cell_type": "code",
   "execution_count": null,
   "metadata": {},
   "outputs": [],
   "source": []
  }
 ],
 "metadata": {
  "kernelspec": {
   "display_name": "Python [conda env:nbooks] *",
   "language": "python",
   "name": "conda-env-nbooks-py"
  },
  "language_info": {
   "codemirror_mode": {
    "name": "ipython",
    "version": 3
   },
   "file_extension": ".py",
   "mimetype": "text/x-python",
   "name": "python",
   "nbconvert_exporter": "python",
   "pygments_lexer": "ipython3",
   "version": "3.6.10"
  }
 },
 "nbformat": 4,
 "nbformat_minor": 4
}
